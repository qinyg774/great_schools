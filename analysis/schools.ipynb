{
 "cells": [
  {
   "cell_type": "markdown",
   "metadata": {},
   "source": [
    "# New York City K-12 School Analysis\n",
    "\n",
    "- Data acquired from [greatschools.org](https://www.greatschools.org/new-york/new-york/schools/)"
   ]
  },
  {
   "cell_type": "code",
   "execution_count": 1,
   "metadata": {
    "collapsed": true
   },
   "outputs": [],
   "source": [
    "import pandas as pd\n",
    "import numpy as np\n",
    "import json\n",
    "import itertools\n",
    "import re"
   ]
  },
  {
   "cell_type": "markdown",
   "metadata": {},
   "source": [
    "## Data Preprocessing"
   ]
  },
  {
   "cell_type": "markdown",
   "metadata": {},
   "source": [
    "### -  Import data"
   ]
  },
  {
   "cell_type": "code",
   "execution_count": 2,
   "metadata": {
    "collapsed": true
   },
   "outputs": [],
   "source": [
    "raw_data = pd.read_csv('Schools.csv')"
   ]
  },
  {
   "cell_type": "code",
   "execution_count": 3,
   "metadata": {},
   "outputs": [
    {
     "data": {
      "text/html": [
       "<div>\n",
       "<style>\n",
       "    .dataframe thead tr:only-child th {\n",
       "        text-align: right;\n",
       "    }\n",
       "\n",
       "    .dataframe thead th {\n",
       "        text-align: left;\n",
       "    }\n",
       "\n",
       "    .dataframe tbody tr th {\n",
       "        vertical-align: top;\n",
       "    }\n",
       "</style>\n",
       "<table border=\"1\" class=\"dataframe\">\n",
       "  <thead>\n",
       "    <tr style=\"text-align: right;\">\n",
       "      <th></th>\n",
       "      <th>grades_served</th>\n",
       "      <th>gs_rating_academics</th>\n",
       "      <th>gs_rating_overall</th>\n",
       "      <th>info</th>\n",
       "      <th>name</th>\n",
       "      <th>review_count</th>\n",
       "      <th>school_type</th>\n",
       "      <th>test_scores</th>\n",
       "    </tr>\n",
       "  </thead>\n",
       "  <tbody>\n",
       "    <tr>\n",
       "      <th>0</th>\n",
       "      <td>K-4</td>\n",
       "      <td>Test scores:10;Student progress:9</td>\n",
       "      <td>10.0</td>\n",
       "      <td>{\"@context\":\"https://schema.org\",\"@type\":\"Scho...</td>\n",
       "      <td>Success Academy Upper West</td>\n",
       "      <td>37 reviews</td>\n",
       "      <td>Public charter</td>\n",
       "      <td>Math:98%:43%;Grade 3:98%:44%;Grade 4:98%:45%;G...</td>\n",
       "    </tr>\n",
       "    <tr>\n",
       "      <th>1</th>\n",
       "      <td>6-12</td>\n",
       "      <td>Test scores:9;College readiness:10;Student pro...</td>\n",
       "      <td>9.0</td>\n",
       "      <td>{\"@context\":\"https://schema.org\",\"@type\":\"Scho...</td>\n",
       "      <td>Columbia Secondary School</td>\n",
       "      <td>31 reviews</td>\n",
       "      <td>Public district</td>\n",
       "      <td>Algebra I:67%:31%;Geometry:52%:22%;English:96%...</td>\n",
       "    </tr>\n",
       "    <tr>\n",
       "      <th>2</th>\n",
       "      <td>6</td>\n",
       "      <td>Test scores:9;Student progress:10;Advanced cou...</td>\n",
       "      <td>9.0</td>\n",
       "      <td>{\"@context\":\"https://schema.org\",\"@type\":\"Scho...</td>\n",
       "      <td>YORKVILLE EAST MIDDLE SCHOOL</td>\n",
       "      <td>4 reviews</td>\n",
       "      <td>Public district</td>\n",
       "      <td>English:51%:34%;Grade 6:46%:34%;Grade 7:59%:35...</td>\n",
       "    </tr>\n",
       "  </tbody>\n",
       "</table>\n",
       "</div>"
      ],
      "text/plain": [
       "  grades_served                                gs_rating_academics  \\\n",
       "0           K-4                  Test scores:10;Student progress:9   \n",
       "1          6-12  Test scores:9;College readiness:10;Student pro...   \n",
       "2             6  Test scores:9;Student progress:10;Advanced cou...   \n",
       "\n",
       "   gs_rating_overall                                               info  \\\n",
       "0               10.0  {\"@context\":\"https://schema.org\",\"@type\":\"Scho...   \n",
       "1                9.0  {\"@context\":\"https://schema.org\",\"@type\":\"Scho...   \n",
       "2                9.0  {\"@context\":\"https://schema.org\",\"@type\":\"Scho...   \n",
       "\n",
       "                           name review_count      school_type  \\\n",
       "0    Success Academy Upper West   37 reviews   Public charter   \n",
       "1     Columbia Secondary School   31 reviews  Public district   \n",
       "2  YORKVILLE EAST MIDDLE SCHOOL    4 reviews  Public district   \n",
       "\n",
       "                                         test_scores  \n",
       "0  Math:98%:43%;Grade 3:98%:44%;Grade 4:98%:45%;G...  \n",
       "1  Algebra I:67%:31%;Geometry:52%:22%;English:96%...  \n",
       "2  English:51%:34%;Grade 6:46%:34%;Grade 7:59%:35...  "
      ]
     },
     "execution_count": 3,
     "metadata": {},
     "output_type": "execute_result"
    }
   ],
   "source": [
    "raw_data.head(3)"
   ]
  },
  {
   "cell_type": "code",
   "execution_count": 4,
   "metadata": {
    "collapsed": true
   },
   "outputs": [],
   "source": [
    "raw_data = raw_data.rename(columns = {'info':'information'})"
   ]
  },
  {
   "cell_type": "code",
   "execution_count": 5,
   "metadata": {},
   "outputs": [
    {
     "data": {
      "text/plain": [
       "grades_served           object\n",
       "gs_rating_academics     object\n",
       "gs_rating_overall      float64\n",
       "information             object\n",
       "name                    object\n",
       "review_count            object\n",
       "school_type             object\n",
       "test_scores             object\n",
       "dtype: object"
      ]
     },
     "execution_count": 5,
     "metadata": {},
     "output_type": "execute_result"
    }
   ],
   "source": [
    "raw_data.dtypes"
   ]
  },
  {
   "cell_type": "code",
   "execution_count": 6,
   "metadata": {},
   "outputs": [
    {
     "data": {
      "text/plain": [
       "(1121, 8)"
      ]
     },
     "execution_count": 6,
     "metadata": {},
     "output_type": "execute_result"
    }
   ],
   "source": [
    "raw_data.shape"
   ]
  },
  {
   "cell_type": "markdown",
   "metadata": {},
   "source": [
    "### - Extract key academic performance indicators"
   ]
  },
  {
   "cell_type": "code",
   "execution_count": 7,
   "metadata": {
    "collapsed": true
   },
   "outputs": [],
   "source": [
    "# This function returns a dictionary each (key, value) pair corresponding to (indicator, rating)\n",
    "def preprocess_gs_rating_academics(s):\n",
    "    step1 = s.split(';') # split into list of indicator:rating strings\n",
    "    d = dict()\n",
    "    for s in step1:\n",
    "        current_item = s.replace(' ', '_').split(':')\n",
    "        try:\n",
    "            d['gs_rating_' + current_item[0]] = int(current_item[1])\n",
    "        except:\n",
    "            d['gs_rating_' + current_item[0]] = np.nan\n",
    "    return d"
   ]
  },
  {
   "cell_type": "code",
   "execution_count": 8,
   "metadata": {},
   "outputs": [
    {
     "data": {
      "text/html": [
       "<div>\n",
       "<style>\n",
       "    .dataframe thead tr:only-child th {\n",
       "        text-align: right;\n",
       "    }\n",
       "\n",
       "    .dataframe thead th {\n",
       "        text-align: left;\n",
       "    }\n",
       "\n",
       "    .dataframe tbody tr th {\n",
       "        vertical-align: top;\n",
       "    }\n",
       "</style>\n",
       "<table border=\"1\" class=\"dataframe\">\n",
       "  <thead>\n",
       "    <tr style=\"text-align: right;\">\n",
       "      <th></th>\n",
       "      <th>grades_served</th>\n",
       "      <th>gs_rating_academics</th>\n",
       "      <th>gs_rating_overall</th>\n",
       "      <th>information</th>\n",
       "      <th>name</th>\n",
       "      <th>review_count</th>\n",
       "      <th>school_type</th>\n",
       "      <th>test_scores</th>\n",
       "    </tr>\n",
       "  </thead>\n",
       "  <tbody>\n",
       "    <tr>\n",
       "      <th>0</th>\n",
       "      <td>K-4</td>\n",
       "      <td>{'gs_rating_Test_scores': 10, 'gs_rating_Stude...</td>\n",
       "      <td>10.0</td>\n",
       "      <td>{\"@context\":\"https://schema.org\",\"@type\":\"Scho...</td>\n",
       "      <td>Success Academy Upper West</td>\n",
       "      <td>37 reviews</td>\n",
       "      <td>Public charter</td>\n",
       "      <td>Math:98%:43%;Grade 3:98%:44%;Grade 4:98%:45%;G...</td>\n",
       "    </tr>\n",
       "  </tbody>\n",
       "</table>\n",
       "</div>"
      ],
      "text/plain": [
       "  grades_served                                gs_rating_academics  \\\n",
       "0           K-4  {'gs_rating_Test_scores': 10, 'gs_rating_Stude...   \n",
       "\n",
       "   gs_rating_overall                                        information  \\\n",
       "0               10.0  {\"@context\":\"https://schema.org\",\"@type\":\"Scho...   \n",
       "\n",
       "                         name review_count     school_type  \\\n",
       "0  Success Academy Upper West   37 reviews  Public charter   \n",
       "\n",
       "                                         test_scores  \n",
       "0  Math:98%:43%;Grade 3:98%:44%;Grade 4:98%:45%;G...  "
      ]
     },
     "execution_count": 8,
     "metadata": {},
     "output_type": "execute_result"
    }
   ],
   "source": [
    "raw_data.gs_rating_academics = \\\n",
    "raw_data.gs_rating_academics.map(preprocess_gs_rating_academics, na_action='ignore')\n",
    "raw_data.head(1)"
   ]
  },
  {
   "cell_type": "code",
   "execution_count": 9,
   "metadata": {},
   "outputs": [
    {
     "data": {
      "text/plain": [
       "{'gs_rating_Advanced_courses',\n",
       " 'gs_rating_College_readiness',\n",
       " 'gs_rating_Student_progress',\n",
       " 'gs_rating_Test_scores'}"
      ]
     },
     "execution_count": 9,
     "metadata": {},
     "output_type": "execute_result"
    }
   ],
   "source": [
    "# get a list of unique indicators\n",
    "indicators = raw_data.gs_rating_academics.map(lambda d:list(d.keys()), na_action='ignore').dropna().tolist()\n",
    "indicators = set(itertools.chain(*indicators))\n",
    "indicators"
   ]
  },
  {
   "cell_type": "code",
   "execution_count": 10,
   "metadata": {
    "collapsed": true
   },
   "outputs": [],
   "source": [
    "# create a column for each of the indicators\n",
    "for indicator in indicators:\n",
    "    raw_data[indicator] = \\\n",
    "    raw_data.gs_rating_academics.map(lambda d:d[indicator] \\\n",
    "                             if indicator in d else np.nan, na_action = 'ignore')"
   ]
  },
  {
   "cell_type": "markdown",
   "metadata": {},
   "source": [
    "### -  Extract test scores"
   ]
  },
  {
   "cell_type": "code",
   "execution_count": 11,
   "metadata": {
    "collapsed": true
   },
   "outputs": [],
   "source": [
    "# This function returns a dictionary each (key, value) pair corresponding to either (proficiency, percentage) or \n",
    "# (state average, percentage) of a subject \n",
    "def preprocess_test_scores(s):\n",
    "    step1 = s.split(';') # split into list of subject:proficiency:grade strings\n",
    "    subject = 'placeholder'\n",
    "    d = dict()\n",
    "    for s in step1:\n",
    "        current_item = s.replace(' ', '_').split(':')\n",
    "\n",
    "        if re.search('^Grade', current_item[0]) == None:\n",
    "            subject = current_item[0]\n",
    "            proficiency_key = subject + '_proficiency'\n",
    "            state_avg_key = subject + '_state_avg'\n",
    "        else:\n",
    "            proficiency_key = subject + '_' + current_item[0] + '_proficiency'\n",
    "            state_avg_key = subject + '_' + current_item[0] + '_state_avg'\n",
    "\n",
    "        proficiency = re.search('([0-9]+)%',current_item[1])\n",
    "        if proficiency != None:\n",
    "            proficiency = float(proficiency.group(1))/100\n",
    "        else:\n",
    "            proficiency = np.nan\n",
    "\n",
    "        state_avg = re.search('([0-9]+)%',current_item[2])\n",
    "        if state_avg != None:\n",
    "            state_avg = float(state_avg.group(1))/100\n",
    "        else:\n",
    "            state_avg = np.nan\n",
    "        \n",
    "        d[proficiency_key] = proficiency\n",
    "        d[state_avg_key] = state_avg\n",
    "\n",
    "    return d"
   ]
  },
  {
   "cell_type": "code",
   "execution_count": 12,
   "metadata": {
    "collapsed": true,
    "scrolled": true
   },
   "outputs": [],
   "source": [
    "raw_data.test_scores = \\\n",
    "raw_data.test_scores.map(preprocess_test_scores, na_action='ignore')"
   ]
  },
  {
   "cell_type": "code",
   "execution_count": 13,
   "metadata": {
    "collapsed": true
   },
   "outputs": [],
   "source": [
    "# get a list of unique subjects\n",
    "test_score_indicators = raw_data.test_scores.map(lambda d:list(d.keys()), na_action='ignore').dropna().tolist()\n",
    "test_score_indicators = set(itertools.chain(*test_score_indicators))"
   ]
  },
  {
   "cell_type": "code",
   "execution_count": 14,
   "metadata": {
    "collapsed": true
   },
   "outputs": [],
   "source": [
    "for test_score_indicator in test_score_indicators:\n",
    "    raw_data[test_score_indicator] = \\\n",
    "    raw_data.test_scores.map(lambda d:d[test_score_indicator] \\\n",
    "                             if test_score_indicator in d else np.nan, na_action = 'ignore')"
   ]
  },
  {
   "cell_type": "code",
   "execution_count": 15,
   "metadata": {
    "collapsed": true
   },
   "outputs": [],
   "source": [
    "pd.options.display.max_columns = 100"
   ]
  },
  {
   "cell_type": "code",
   "execution_count": 16,
   "metadata": {},
   "outputs": [
    {
     "data": {
      "text/html": [
       "<div>\n",
       "<style>\n",
       "    .dataframe thead tr:only-child th {\n",
       "        text-align: right;\n",
       "    }\n",
       "\n",
       "    .dataframe thead th {\n",
       "        text-align: left;\n",
       "    }\n",
       "\n",
       "    .dataframe tbody tr th {\n",
       "        vertical-align: top;\n",
       "    }\n",
       "</style>\n",
       "<table border=\"1\" class=\"dataframe\">\n",
       "  <thead>\n",
       "    <tr style=\"text-align: right;\">\n",
       "      <th></th>\n",
       "      <th>grades_served</th>\n",
       "      <th>gs_rating_academics</th>\n",
       "      <th>gs_rating_overall</th>\n",
       "      <th>information</th>\n",
       "      <th>name</th>\n",
       "      <th>review_count</th>\n",
       "      <th>school_type</th>\n",
       "      <th>test_scores</th>\n",
       "      <th>gs_rating_Student_progress</th>\n",
       "      <th>gs_rating_Test_scores</th>\n",
       "      <th>gs_rating_College_readiness</th>\n",
       "      <th>gs_rating_Advanced_courses</th>\n",
       "      <th>Math_Grade_8_state_avg</th>\n",
       "      <th>Algebra_II_proficiency</th>\n",
       "      <th>English_Grade_8_state_avg</th>\n",
       "      <th>Math_Grade_5_state_avg</th>\n",
       "      <th>English_Grade_5_proficiency</th>\n",
       "      <th>English_Grade_5_state_avg</th>\n",
       "      <th>Biology_I_state_avg</th>\n",
       "      <th>Algebra_II_state_avg</th>\n",
       "      <th>Chemistry_state_avg</th>\n",
       "      <th>Biology_I_proficiency</th>\n",
       "      <th>Math_Grade_4_proficiency</th>\n",
       "      <th>English_Grade_7_state_avg</th>\n",
       "      <th>Integrated_Algebra_state_avg</th>\n",
       "      <th>Geometry_state_avg</th>\n",
       "      <th>Earth_Science_proficiency</th>\n",
       "      <th>US_History_and_Government_proficiency</th>\n",
       "      <th>Algebra_I_proficiency</th>\n",
       "      <th>Chemistry_proficiency</th>\n",
       "      <th>Math_Grade_4_state_avg</th>\n",
       "      <th>Math_Grade_8_proficiency</th>\n",
       "      <th>US_History_and_Government_state_avg</th>\n",
       "      <th>Math_Grade_3_proficiency</th>\n",
       "      <th>English_Grade_4_proficiency</th>\n",
       "      <th>English_Grade_3_state_avg</th>\n",
       "      <th>Algebra_I_state_avg</th>\n",
       "      <th>English_Grade_6_state_avg</th>\n",
       "      <th>Geometry_proficiency</th>\n",
       "      <th>Algebra2/Trigonometry_proficiency</th>\n",
       "      <th>Math_state_avg</th>\n",
       "      <th>Math_proficiency</th>\n",
       "      <th>Physics_proficiency</th>\n",
       "      <th>Math_Grade_3_state_avg</th>\n",
       "      <th>Math_Grade_7_proficiency</th>\n",
       "      <th>Math_Grade_7_state_avg</th>\n",
       "      <th>English_state_avg</th>\n",
       "      <th>Math_Grade_6_proficiency</th>\n",
       "      <th>Algebra2/Trigonometry_state_avg</th>\n",
       "      <th>English_Grade_7_proficiency</th>\n",
       "      <th>Global_History_and_Geography_state_avg</th>\n",
       "      <th>English_Grade_4_state_avg</th>\n",
       "      <th>Integrated_Algebra_proficiency</th>\n",
       "      <th>Math_Grade_5_proficiency</th>\n",
       "      <th>English_Grade_8_proficiency</th>\n",
       "      <th>English_proficiency</th>\n",
       "      <th>Physics_state_avg</th>\n",
       "      <th>English_Grade_3_proficiency</th>\n",
       "      <th>English_Grade_6_proficiency</th>\n",
       "      <th>Math_Grade_6_state_avg</th>\n",
       "      <th>Earth_Science_state_avg</th>\n",
       "      <th>Global_History_and_Geography_proficiency</th>\n",
       "    </tr>\n",
       "  </thead>\n",
       "  <tbody>\n",
       "    <tr>\n",
       "      <th>0</th>\n",
       "      <td>K-4</td>\n",
       "      <td>{'gs_rating_Test_scores': 10, 'gs_rating_Stude...</td>\n",
       "      <td>10.0</td>\n",
       "      <td>{\"@context\":\"https://schema.org\",\"@type\":\"Scho...</td>\n",
       "      <td>Success Academy Upper West</td>\n",
       "      <td>37 reviews</td>\n",
       "      <td>Public charter</td>\n",
       "      <td>{'Math_proficiency': 0.98, 'Math_state_avg': 0...</td>\n",
       "      <td>9.0</td>\n",
       "      <td>10.0</td>\n",
       "      <td>NaN</td>\n",
       "      <td>NaN</td>\n",
       "      <td>NaN</td>\n",
       "      <td>NaN</td>\n",
       "      <td>NaN</td>\n",
       "      <td>0.4</td>\n",
       "      <td>0.87</td>\n",
       "      <td>0.33</td>\n",
       "      <td>NaN</td>\n",
       "      <td>NaN</td>\n",
       "      <td>NaN</td>\n",
       "      <td>NaN</td>\n",
       "      <td>0.98</td>\n",
       "      <td>NaN</td>\n",
       "      <td>NaN</td>\n",
       "      <td>NaN</td>\n",
       "      <td>NaN</td>\n",
       "      <td>NaN</td>\n",
       "      <td>NaN</td>\n",
       "      <td>NaN</td>\n",
       "      <td>0.45</td>\n",
       "      <td>NaN</td>\n",
       "      <td>NaN</td>\n",
       "      <td>0.98</td>\n",
       "      <td>0.88</td>\n",
       "      <td>0.42</td>\n",
       "      <td>NaN</td>\n",
       "      <td>NaN</td>\n",
       "      <td>NaN</td>\n",
       "      <td>NaN</td>\n",
       "      <td>0.43</td>\n",
       "      <td>0.98</td>\n",
       "      <td>NaN</td>\n",
       "      <td>0.44</td>\n",
       "      <td>NaN</td>\n",
       "      <td>NaN</td>\n",
       "      <td>0.39</td>\n",
       "      <td>NaN</td>\n",
       "      <td>NaN</td>\n",
       "      <td>NaN</td>\n",
       "      <td>NaN</td>\n",
       "      <td>0.41</td>\n",
       "      <td>NaN</td>\n",
       "      <td>0.98</td>\n",
       "      <td>NaN</td>\n",
       "      <td>0.9</td>\n",
       "      <td>NaN</td>\n",
       "      <td>0.94</td>\n",
       "      <td>NaN</td>\n",
       "      <td>NaN</td>\n",
       "      <td>NaN</td>\n",
       "      <td>NaN</td>\n",
       "    </tr>\n",
       "  </tbody>\n",
       "</table>\n",
       "</div>"
      ],
      "text/plain": [
       "  grades_served                                gs_rating_academics  \\\n",
       "0           K-4  {'gs_rating_Test_scores': 10, 'gs_rating_Stude...   \n",
       "\n",
       "   gs_rating_overall                                        information  \\\n",
       "0               10.0  {\"@context\":\"https://schema.org\",\"@type\":\"Scho...   \n",
       "\n",
       "                         name review_count     school_type  \\\n",
       "0  Success Academy Upper West   37 reviews  Public charter   \n",
       "\n",
       "                                         test_scores  \\\n",
       "0  {'Math_proficiency': 0.98, 'Math_state_avg': 0...   \n",
       "\n",
       "   gs_rating_Student_progress  gs_rating_Test_scores  \\\n",
       "0                         9.0                   10.0   \n",
       "\n",
       "   gs_rating_College_readiness  gs_rating_Advanced_courses  \\\n",
       "0                          NaN                         NaN   \n",
       "\n",
       "   Math_Grade_8_state_avg  Algebra_II_proficiency  English_Grade_8_state_avg  \\\n",
       "0                     NaN                     NaN                        NaN   \n",
       "\n",
       "   Math_Grade_5_state_avg  English_Grade_5_proficiency  \\\n",
       "0                     0.4                         0.87   \n",
       "\n",
       "   English_Grade_5_state_avg  Biology_I_state_avg  Algebra_II_state_avg  \\\n",
       "0                       0.33                  NaN                   NaN   \n",
       "\n",
       "   Chemistry_state_avg  Biology_I_proficiency  Math_Grade_4_proficiency  \\\n",
       "0                  NaN                    NaN                      0.98   \n",
       "\n",
       "   English_Grade_7_state_avg  Integrated_Algebra_state_avg  \\\n",
       "0                        NaN                           NaN   \n",
       "\n",
       "   Geometry_state_avg  Earth_Science_proficiency  \\\n",
       "0                 NaN                        NaN   \n",
       "\n",
       "   US_History_and_Government_proficiency  Algebra_I_proficiency  \\\n",
       "0                                    NaN                    NaN   \n",
       "\n",
       "   Chemistry_proficiency  Math_Grade_4_state_avg  Math_Grade_8_proficiency  \\\n",
       "0                    NaN                    0.45                       NaN   \n",
       "\n",
       "   US_History_and_Government_state_avg  Math_Grade_3_proficiency  \\\n",
       "0                                  NaN                      0.98   \n",
       "\n",
       "   English_Grade_4_proficiency  English_Grade_3_state_avg  \\\n",
       "0                         0.88                       0.42   \n",
       "\n",
       "   Algebra_I_state_avg  English_Grade_6_state_avg  Geometry_proficiency  \\\n",
       "0                  NaN                        NaN                   NaN   \n",
       "\n",
       "   Algebra2/Trigonometry_proficiency  Math_state_avg  Math_proficiency  \\\n",
       "0                                NaN            0.43              0.98   \n",
       "\n",
       "   Physics_proficiency  Math_Grade_3_state_avg  Math_Grade_7_proficiency  \\\n",
       "0                  NaN                    0.44                       NaN   \n",
       "\n",
       "   Math_Grade_7_state_avg  English_state_avg  Math_Grade_6_proficiency  \\\n",
       "0                     NaN               0.39                       NaN   \n",
       "\n",
       "   Algebra2/Trigonometry_state_avg  English_Grade_7_proficiency  \\\n",
       "0                              NaN                          NaN   \n",
       "\n",
       "   Global_History_and_Geography_state_avg  English_Grade_4_state_avg  \\\n",
       "0                                     NaN                       0.41   \n",
       "\n",
       "   Integrated_Algebra_proficiency  Math_Grade_5_proficiency  \\\n",
       "0                             NaN                      0.98   \n",
       "\n",
       "   English_Grade_8_proficiency  English_proficiency  Physics_state_avg  \\\n",
       "0                          NaN                  0.9                NaN   \n",
       "\n",
       "   English_Grade_3_proficiency  English_Grade_6_proficiency  \\\n",
       "0                         0.94                          NaN   \n",
       "\n",
       "   Math_Grade_6_state_avg  Earth_Science_state_avg  \\\n",
       "0                     NaN                      NaN   \n",
       "\n",
       "   Global_History_and_Geography_proficiency  \n",
       "0                                       NaN  "
      ]
     },
     "execution_count": 16,
     "metadata": {},
     "output_type": "execute_result"
    }
   ],
   "source": [
    "raw_data.head(1)"
   ]
  },
  {
   "cell_type": "markdown",
   "metadata": {},
   "source": [
    "### -  Extract reviews\n",
    "Extract school address and aggregate review stats"
   ]
  },
  {
   "cell_type": "code",
   "execution_count": 17,
   "metadata": {
    "collapsed": true
   },
   "outputs": [],
   "source": [
    "raw_data.information = \\\n",
    "raw_data.information.map(json.loads)"
   ]
  },
  {
   "cell_type": "code",
   "execution_count": 18,
   "metadata": {
    "collapsed": true
   },
   "outputs": [],
   "source": [
    "# pick data of interest from the information column\n",
    "raw_data['address'] = raw_data.information.map(lambda d:d['address'])\n",
    "raw_data['aggregateRating'] = raw_data.information.map(lambda d:d['aggregateRating'] \\\n",
    "                                                       if 'aggregateRating' in d.keys() else None)\n",
    "raw_data['review'] = raw_data.information.map(lambda d:d['review'] \\\n",
    "                                                       if 'review' in d.keys() else None)"
   ]
  },
  {
   "cell_type": "code",
   "execution_count": 19,
   "metadata": {
    "collapsed": true
   },
   "outputs": [],
   "source": [
    "# parse address\n",
    "raw_data['streetAddress'] = raw_data.address.map(lambda d:d['streetAddress'])\n",
    "raw_data['addressLocality'] = raw_data.address.map(lambda d:d['addressLocality'])\n",
    "raw_data['addressRegion'] = raw_data.address.map(lambda d:d['addressRegion'])\n",
    "raw_data['postalCode'] = raw_data.address.map(lambda d:d['postalCode'])\n",
    "\n",
    "# parse aggregate review stats\n",
    "raw_data['bestRating'] = raw_data.aggregateRating.map(lambda d:d['bestRating'] \\\n",
    "                                                       if 'bestRating' in d.keys() else np.nan, na_action='ignore')\n",
    "raw_data['ratingCount'] = raw_data.aggregateRating.map(lambda d:d['ratingCount'] \\\n",
    "                                                       if 'ratingCount' in d.keys() else np.nan, na_action='ignore')\n",
    "raw_data['ratingValue'] = raw_data.aggregateRating.map(lambda d:d['ratingValue'] \\\n",
    "                                                       if 'ratingValue' in d.keys() else np.nan, na_action='ignore')\n",
    "raw_data['reviewCount'] = raw_data.aggregateRating.map(lambda d:d['reviewCount'] \\\n",
    "                                                       if 'reviewCount' in d.keys() else np.nan, na_action='ignore')\n",
    "raw_data['worstRating'] = raw_data.aggregateRating.map(lambda d:d['worstRating'] \\\n",
    "                                                       if 'worstRating' in d.keys() else np.nan, na_action='ignore')"
   ]
  },
  {
   "cell_type": "code",
   "execution_count": 30,
   "metadata": {},
   "outputs": [
    {
     "data": {
      "text/plain": [
       "grades_served                                object\n",
       "gs_rating_overall                           float64\n",
       "name                                         object\n",
       "school_type                                  object\n",
       "gs_rating_Student_progress                  float64\n",
       "gs_rating_Test_scores                       float64\n",
       "gs_rating_College_readiness                 float64\n",
       "gs_rating_Advanced_courses                  float64\n",
       "Math_Grade_8_state_avg                      float64\n",
       "Algebra_II_proficiency                      float64\n",
       "English_Grade_8_state_avg                   float64\n",
       "Math_Grade_5_state_avg                      float64\n",
       "English_Grade_5_proficiency                 float64\n",
       "English_Grade_5_state_avg                   float64\n",
       "Biology_I_state_avg                         float64\n",
       "Algebra_II_state_avg                        float64\n",
       "Chemistry_state_avg                         float64\n",
       "Biology_I_proficiency                       float64\n",
       "Math_Grade_4_proficiency                    float64\n",
       "English_Grade_7_state_avg                   float64\n",
       "Integrated_Algebra_state_avg                float64\n",
       "Geometry_state_avg                          float64\n",
       "Earth_Science_proficiency                   float64\n",
       "US_History_and_Government_proficiency       float64\n",
       "Algebra_I_proficiency                       float64\n",
       "Chemistry_proficiency                       float64\n",
       "Math_Grade_4_state_avg                      float64\n",
       "Math_Grade_8_proficiency                    float64\n",
       "US_History_and_Government_state_avg         float64\n",
       "Math_Grade_3_proficiency                    float64\n",
       "                                             ...   \n",
       "Math_proficiency                            float64\n",
       "Physics_proficiency                         float64\n",
       "Math_Grade_3_state_avg                      float64\n",
       "Math_Grade_7_proficiency                    float64\n",
       "Math_Grade_7_state_avg                      float64\n",
       "English_state_avg                           float64\n",
       "Math_Grade_6_proficiency                    float64\n",
       "Algebra2/Trigonometry_state_avg             float64\n",
       "English_Grade_7_proficiency                 float64\n",
       "Global_History_and_Geography_state_avg      float64\n",
       "English_Grade_4_state_avg                   float64\n",
       "Integrated_Algebra_proficiency              float64\n",
       "Math_Grade_5_proficiency                    float64\n",
       "English_Grade_8_proficiency                 float64\n",
       "English_proficiency                         float64\n",
       "Physics_state_avg                           float64\n",
       "English_Grade_3_proficiency                 float64\n",
       "English_Grade_6_proficiency                 float64\n",
       "Math_Grade_6_state_avg                      float64\n",
       "Earth_Science_state_avg                     float64\n",
       "Global_History_and_Geography_proficiency    float64\n",
       "streetAddress                                object\n",
       "addressLocality                              object\n",
       "addressRegion                                object\n",
       "postalCode                                   object\n",
       "bestRating                                  float64\n",
       "ratingCount                                 float64\n",
       "ratingValue                                 float64\n",
       "reviewCount                                 float64\n",
       "worstRating                                 float64\n",
       "Length: 67, dtype: object"
      ]
     },
     "execution_count": 30,
     "metadata": {},
     "output_type": "execute_result"
    }
   ],
   "source": [
    "df_schools = raw_data.drop(['gs_rating_academics','information','test_scores',\n",
    "                           'address','aggregateRating','review', 'review_count'], axis = 1)\n",
    "df_schools.dtypes"
   ]
  },
  {
   "cell_type": "markdown",
   "metadata": {},
   "source": [
    "Extract individual review data"
   ]
  },
  {
   "cell_type": "code",
   "execution_count": 21,
   "metadata": {
    "collapsed": true
   },
   "outputs": [],
   "source": [
    "def processReviews(review_list, school_index):\n",
    "    reviewer = []\n",
    "    review_date = []\n",
    "    review_text = []\n",
    "    review_rating_value = []\n",
    "    \n",
    "    for review in review_list:\n",
    "        try:\n",
    "            ra = review['author']\n",
    "        except:\n",
    "            ra = None\n",
    "        reviewer.append(ra)\n",
    "        \n",
    "        try:\n",
    "            rd = review['datePublished']\n",
    "        except:\n",
    "            rd = None\n",
    "        review_date.append(rd)\n",
    "        \n",
    "        try:\n",
    "            rt = review['reviewBody']\n",
    "        except:\n",
    "            rt = None\n",
    "        review_text.append(rt)\n",
    "        \n",
    "        try:\n",
    "            rv = int(review['reviewRating']['ratingValue'])\n",
    "        except:\n",
    "            rv = np.nan\n",
    "        review_rating_value.append(rv)\n",
    "        \n",
    "    return pd.DataFrame({'reviewer':reviewer,\n",
    "                         'review_date':review_date,\n",
    "                         'review_text':review_text,\n",
    "                         'review_rating_value':review_rating_value}, index = [school_index]*len(review_list) )"
   ]
  },
  {
   "cell_type": "code",
   "execution_count": 22,
   "metadata": {
    "collapsed": true
   },
   "outputs": [],
   "source": [
    "df_reviews = raw_data.loc[:,'review'].dropna()\n",
    "\n",
    "idx = df_reviews.index # save index so reviews can be joined back with school level info\n",
    "\n",
    "df_reviews = map(processReviews, df_reviews, idx) # return one dataframe per school where each row corresponds to\n",
    "                                                  # a single review \n",
    "\n",
    "df_reviews = pd.concat(df_reviews)\n",
    "\n",
    "df_reviews = pd.merge(df_reviews, df_schools, left_index = True, right_index = True) # join with school level info"
   ]
  },
  {
   "cell_type": "markdown",
   "metadata": {
    "collapsed": true
   },
   "source": [
    "## Analysis"
   ]
  },
  {
   "cell_type": "markdown",
   "metadata": {},
   "source": [
    "First I'd like to examine rating distributions and see if it's consistent across differences school types and stakeholders"
   ]
  },
  {
   "cell_type": "code",
   "execution_count": 23,
   "metadata": {
    "collapsed": true
   },
   "outputs": [],
   "source": [
    "%matplotlib inline\n",
    "from matplotlib import pyplot as plt\n",
    "import seaborn as sns"
   ]
  },
  {
   "cell_type": "code",
   "execution_count": null,
   "metadata": {
    "collapsed": true
   },
   "outputs": [],
   "source": [
    "df_reviews['review_rating_value_adj'] = df_reviews['review_rating_value'] + \\\n",
    "np.random.uniform(-.5, .5, len(df_reviews)) # add jitter to ratings in order to smooth out density curves"
   ]
  },
  {
   "cell_type": "code",
   "execution_count": 31,
   "metadata": {},
   "outputs": [
    {
     "data": {
      "text/plain": [
       "<matplotlib.axes._subplots.AxesSubplot at 0x7f75b0fde2b0>"
      ]
     },
     "execution_count": 31,
     "metadata": {},
     "output_type": "execute_result"
    },
    {
     "data": {
      "image/png": "[encoded data removed]",
      "text/plain": [
       "<matplotlib.figure.Figure at 0x7f75b0fd50f0>"
      ]
     },
     "metadata": {},
     "output_type": "display_data"
    }
   ],
   "source": [
    "df_reviews.boxplot(by='school_type', column='review_rating_value_adj')"
   ]
  },
  {
   "cell_type": "code",
   "execution_count": 24,
   "metadata": {},
   "outputs": [
    {
     "data": {
      "text/plain": [
       "<seaborn.axisgrid.FacetGrid at 0x7f75b2353748>"
      ]
     },
     "execution_count": 24,
     "metadata": {},
     "output_type": "execute_result"
    },
    {
     "data": {
      "image/png": "[encoded data removed]",
      "text/plain": [
       "<matplotlib.figure.Figure at 0x7f75b2353b00>"
      ]
     },
     "metadata": {},
     "output_type": "display_data"
    }
   ],
   "source": [
    "ratingGrid1 = sns.FacetGrid(df_reviews, col='school_type', hue='school_type')\n",
    "ratingGrid1.map(sns.distplot,'review_rating_value_adj')"
   ]
  },
  {
   "cell_type": "code",
   "execution_count": 33,
   "metadata": {},
   "outputs": [
    {
     "data": {
      "text/plain": [
       "<matplotlib.axes._subplots.AxesSubplot at 0x7f75b0eb8c50>"
      ]
     },
     "execution_count": 33,
     "metadata": {},
     "output_type": "execute_result"
    },
    {
     "data": {
      "image/png": "[encoded data removed]",
      "text/plain": [
       "<matplotlib.figure.Figure at 0x7f75b0df4780>"
      ]
     },
     "metadata": {},
     "output_type": "display_data"
    }
   ],
   "source": [
    "df_reviews[df_reviews['reviewer'] != 'school leader'].boxplot(by='reviewer', column='review_rating_value_adj')"
   ]
  },
  {
   "cell_type": "code",
   "execution_count": 25,
   "metadata": {},
   "outputs": [
    {
     "data": {
      "text/plain": [
       "<seaborn.axisgrid.FacetGrid at 0x7f75b1e54a90>"
      ]
     },
     "execution_count": 25,
     "metadata": {},
     "output_type": "execute_result"
    },
    {
     "data": {
      "image/png": "[encoded data removed]",
      "text/plain": [
       "<matplotlib.figure.Figure at 0x7f75b1e54438>"
      ]
     },
     "metadata": {},
     "output_type": "display_data"
    }
   ],
   "source": [
    "ratingGrid2 = sns.FacetGrid(df_reviews[df_reviews['reviewer'] != 'school leader'], col='reviewer', hue='reviewer')\n",
    "ratingGrid2.map(sns.distplot,'review_rating_value_adj')"
   ]
  },
  {
   "cell_type": "markdown",
   "metadata": {},
   "source": [
    "Second I'd like to see if greatschools.org ratings are consistent with that of the community"
   ]
  },
  {
   "cell_type": "code",
   "execution_count": 26,
   "metadata": {},
   "outputs": [
    {
     "data": {
      "text/plain": [
       "<seaborn.axisgrid.JointGrid at 0x7f75b0bde9b0>"
      ]
     },
     "execution_count": 26,
     "metadata": {},
     "output_type": "execute_result"
    },
    {
     "data": {
      "image/png": "[encoded data removed]",
      "text/plain": [
       "<matplotlib.figure.Figure at 0x7f75b0bde860>"
      ]
     },
     "metadata": {},
     "output_type": "display_data"
    }
   ],
   "source": [
    "df_reviews_copy = df_reviews.copy() #        \n",
    "\n",
    "df_reviews_copy.reset_index(inplace=True)\n",
    "\n",
    "sample_size_filter = df_reviews_copy.groupby('index').size()>=10\n",
    "\n",
    "scatter_data = df_reviews_copy.groupby('index').agg({'gs_rating_overall':'max','review_rating_value_adj':'mean'})\n",
    "\n",
    "scatter_data = scatter_data.loc[sample_size_filter,:]\n",
    "\n",
    "sns.jointplot(scatter_data.gs_rating_overall,scatter_data.review_rating_value_adj)"
   ]
  },
  {
   "cell_type": "code",
   "execution_count": 28,
   "metadata": {},
   "outputs": [
    {
     "data": {
      "text/plain": [
       "<matplotlib.axes._subplots.AxesSubplot at 0x7f75b127ba20>"
      ]
     },
     "execution_count": 28,
     "metadata": {},
     "output_type": "execute_result"
    },
    {
     "data": {
      "image/png": "[encoded data removed]",
      "text/plain": [
       "<matplotlib.figure.Figure at 0x7f75b1e54be0>"
      ]
     },
     "metadata": {},
     "output_type": "display_data"
    }
   ],
   "source": [
    "scatter_data.boxplot(by='gs_rating_overall', column='review_rating_value_adj')"
   ]
  },
  {
   "cell_type": "code",
   "execution_count": 27,
   "metadata": {},
   "outputs": [
    {
     "name": "stderr",
     "output_type": "stream",
     "text": [
      "/home/yongguang/anaconda3/lib/python3.6/site-packages/ipykernel_launcher.py:1: UserWarning: This pattern has match groups. To actually get the groups, use str.extract.\n",
      "  \"\"\"Entry point for launching an IPython kernel.\n"
     ]
    },
    {
     "data": {
      "text/plain": [
       "<matplotlib.axes._subplots.AxesSubplot at 0x7f75b13f5be0>"
      ]
     },
     "execution_count": 27,
     "metadata": {},
     "output_type": "execute_result"
    },
    {
     "data": {
      "image/png": "[encoded data removed]",
      "text/plain": [
       "<matplotlib.figure.Figure at 0x7f75b1322e80>"
      ]
     },
     "metadata": {},
     "output_type": "display_data"
    }
   ],
   "source": [
    "df_schools_reduced = df_schools.loc[df_schools['grades_served'].str.contains('(11)|(12)'),] # filter on high schools\n",
    "\n",
    "cols_selector = np.logical_and(np.logical_and(\n",
    "    df_schools_reduced.columns.str.endswith('proficiency'), # interested in proficiency columns\n",
    "    ~df_schools_reduced.columns.str.contains('Grade')       # but not individual grade level\n",
    "),~np.all(pd.isnull(df_schools_reduced), axis=0))           # additionally, filter out columns with no data\n",
    "\n",
    "corr = df_schools_reduced.loc[:,cols_selector].corr()\n",
    "sns.heatmap(corr)"
   ]
  },
  {
   "cell_type": "code",
   "execution_count": null,
   "metadata": {
    "collapsed": true
   },
   "outputs": [],
   "source": []
  },
  {
   "cell_type": "code",
   "execution_count": null,
   "metadata": {
    "collapsed": true
   },
   "outputs": [],
   "source": []
  },
  {
   "cell_type": "code",
   "execution_count": null,
   "metadata": {
    "collapsed": true
   },
   "outputs": [],
   "source": []
  },
  {
   "cell_type": "code",
   "execution_count": null,
   "metadata": {
    "collapsed": true
   },
   "outputs": [],
   "source": []
  },
  {
   "cell_type": "code",
   "execution_count": null,
   "metadata": {
    "collapsed": true
   },
   "outputs": [],
   "source": []
  },
  {
   "cell_type": "code",
   "execution_count": null,
   "metadata": {
    "collapsed": true
   },
   "outputs": [],
   "source": []
  },
  {
   "cell_type": "code",
   "execution_count": null,
   "metadata": {
    "collapsed": true
   },
   "outputs": [],
   "source": [
    "df_schools_reduced = df_schools.loc[df_schools['grades_served'].str.contains('[6-8]'),]\n",
    "\n",
    "cols_selector = np.logical_and(np.logical_and(\n",
    "    df_schools_reduced.columns.str.endswith('proficiency'),\n",
    "    ~df_schools_reduced.columns.str.contains('Grade')\n",
    "),~np.all(pd.isnull(df_schools_reduced), axis=0))\n",
    "\n",
    "corr = df_schools_reduced.loc[:,cols_selector].corr()\n",
    "sns.heatmap(corr)"
   ]
  },
  {
   "cell_type": "code",
   "execution_count": null,
   "metadata": {
    "collapsed": true
   },
   "outputs": [],
   "source": []
  },
  {
   "cell_type": "code",
   "execution_count": null,
   "metadata": {
    "collapsed": true
   },
   "outputs": [],
   "source": []
  },
  {
   "cell_type": "code",
   "execution_count": null,
   "metadata": {
    "collapsed": true
   },
   "outputs": [],
   "source": []
  }
 ],
 "metadata": {
  "kernelspec": {
   "display_name": "Python 3",
   "language": "python",
   "name": "python3"
  },
  "language_info": {
   "codemirror_mode": {
    "name": "ipython",
    "version": 3
   },
   "file_extension": ".py",
   "mimetype": "text/x-python",
   "name": "python",
   "nbconvert_exporter": "python",
   "pygments_lexer": "ipython3",
   "version": "3.6.1"
  }
 },
 "nbformat": 4,
 "nbformat_minor": 2
}
